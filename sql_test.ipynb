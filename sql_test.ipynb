{
 "cells": [
  {
   "cell_type": "code",
   "execution_count": 1,
   "metadata": {},
   "outputs": [
    {
     "name": "stdout",
     "output_type": "stream",
     "text": [
      "Requirement already satisfied: pyodbc in c:\\users\\e150907\\appdata\\local\\packages\\pythonsoftwarefoundation.python.3.11_qbz5n2kfra8p0\\localcache\\local-packages\\python311\\site-packages (5.1.0)\n"
     ]
    },
    {
     "name": "stderr",
     "output_type": "stream",
     "text": [
      "\n",
      "[notice] A new release of pip is available: 24.0 -> 24.1.2\n",
      "[notice] To update, run: C:\\Users\\e150907\\AppData\\Local\\Microsoft\\WindowsApps\\PythonSoftwareFoundation.Python.3.11_qbz5n2kfra8p0\\python.exe -m pip install --upgrade pip\n"
     ]
    }
   ],
   "source": [
    "!pip install --trusted-host pypi.org --trusted-host pypi.python.org --trusted-host files.pythonhosted.org pyodbc"
   ]
  },
  {
   "cell_type": "code",
   "execution_count": 2,
   "metadata": {},
   "outputs": [],
   "source": [
    "import sqlalchemy as db\n",
    "from sqlalchemy import create_engine\n",
    "from sqlalchemy import text\n",
    "import json"
   ]
  },
  {
   "cell_type": "code",
   "execution_count": 3,
   "metadata": {},
   "outputs": [],
   "source": [
    "user = 'Groupie01'\n",
    "password = 'Groupie2024!'\n",
    "host = 'bdsql2016Prod'\n",
    "port = 1433\n",
    "database = 'PriceGroup'\n",
    " \n",
    "# PYTHON FUNCTION TO CONNECT TO THE MYSQL DATABASE AND\n",
    "# RETURN THE SQLACHEMY ENGINE OBJECT\n",
    "def get_connection():\n",
    "    return create_engine(\n",
    "        url=\"mssql+pyodbc://{0}:{1}@{2}:{3}/{4}?driver=SQL+Server\".format(\n",
    "            user, password, host, port, database\n",
    "        )\n",
    "    )\n",
    "\n",
    "engine = get_connection()\n",
    " "
   ]
  },
  {
   "cell_type": "code",
   "execution_count": 84,
   "metadata": {},
   "outputs": [
    {
     "name": "stdout",
     "output_type": "stream",
     "text": [
      "('', '00001658', \"LOWE'S COMPANIES INC\", 'LOWCONW', 21, 'HDGOLD', 1)\n",
      "('', '00001628', 'ALSIDE SUPPLY', 'ALSSUAK', 26, 'HDGOLD', 1)\n",
      "('GRANDJCT', '416', 'BUILDERS FIRSTSOURCE', 'BUIFIDE', 306, 'TrxStkDlr 1', 4)\n",
      "('', '00001658', \"LOWE'S COMPANIES INC\", 'LOWCONW', 1898, 'HDGOLD', 1)\n",
      "('', '00001658', \"LOWE'S COMPANIES INC\", 'LOWCONW', 22, 'HDGOLD', 1)\n",
      "('LATHROP', '3674', 'ORGILL INC', 'ORGME', 852, '3', 1)\n",
      "('LATHROP', '00001658', \"LOWE'S COMPANIES INC\", 'LOWCONW', 1189, '5', 2)\n",
      "('MILTON', '00004433', 'HOUSE-HASSON HARDWARE', 'HOUHAHKN', 31, '5', 1)\n",
      "('ORLANDO', '1194', 'ABC SUPPLY COMPANY INC', 'ABCSUBE', 773, '1', 1)\n",
      "('LATHROP', '00001658', \"LOWE'S COMPANIES INC\", 'LOWCONW', 1189, 'HomeCtr', 1)\n"
     ]
    }
   ],
   "source": [
    "\n",
    "\n",
    "with engine.connect() as connection:\n",
    "    result = connection.execute(text(\"SELECT TOP 10 * FROM PriceGroup\"))\n",
    "    for row in result:\n",
    "        print(row)"
   ]
  },
  {
   "cell_type": "code",
   "execution_count": 96,
   "metadata": {},
   "outputs": [
    {
     "name": "stdout",
     "output_type": "stream",
     "text": [
      "[('branch',), ('cust_key',), ('cust_name',), ('cust_code',), ('seq_num',), ('group_id',), ('ranking_num',)]\n"
     ]
    }
   ],
   "source": [
    "with engine.connect() as connection:\n",
    "    print(connection.execute(text(\"SELECT COLUMN_NAME FROM INFORMATION_SCHEMA.COLUMNS WHERE TABLE_NAME='PriceGroup'\")).fetchall())\n",
    "    "
   ]
  },
  {
   "cell_type": "code",
   "execution_count": 99,
   "metadata": {},
   "outputs": [
    {
     "name": "stdout",
     "output_type": "stream",
     "text": [
      "('BOISE', '145', 'OVERLAND LUMBER COMPANY', 'OVELUBO', 1, 'TruStkDlr 1', 4)\n",
      "('BOISE', '145', 'OVERLAND LUMBER COMPANY', 'OVELUBO', 1, '1', 12)\n",
      "('BOISE', '145', 'OVERLAND LUMBER COMPANY', 'OVELUBO', 1, 'BrdsLvl#1', 1)\n",
      "('BOISE', '145', 'OVERLAND LUMBER COMPANY', 'OVELUBO', 1, 'EwpGrp1', 6)\n",
      "('BOISE', '145', 'OVERLAND LUMBER COMPANY', 'OVELUBO', 1, 'FstnrStkDlr2', 11)\n",
      "('BOISE', '145', 'OVERLAND LUMBER COMPANY', 'OVELUBO', 1, 'GLB1', 2)\n",
      "('BOISE', '145', 'OVERLAND LUMBER COMPANY', 'OVELUBO', 1, 'HdePrfDlr 2', 8)\n",
      "('BOISE', '145', 'OVERLAND LUMBER COMPANY', 'OVELUBO', 1, 'MirTec3', 10)\n",
      "('BOISE', '145', 'OVERLAND LUMBER COMPANY', 'OVELUBO', 1, 'PolyPrfDlr 2', 3)\n",
      "('BOISE', '145', 'OVERLAND LUMBER COMPANY', 'OVELUBO', 1, 'SmpPrfDlr 2', 5)\n",
      "('BOISE', '145', 'OVERLAND LUMBER COMPANY', 'OVELUBO', 1, 'TdtStkDlr 1', 7)\n",
      "('BOISE', '145', 'OVERLAND LUMBER COMPANY', 'OVELUBO', 1, 'TrxStkDlr 1', 9)\n"
     ]
    }
   ],
   "source": [
    "with engine.connect() as connection:\n",
    "    result = connection.execute(text(\"SELECT * FROM PriceGroup WHERE cust_code = 'OVELUBO' AND seq_num = 1 AND branch='BOISE'\"))\n",
    "    for row in result:\n",
    "        print(row)\n",
    "    "
   ]
  },
  {
   "cell_type": "code",
   "execution_count": 22,
   "metadata": {},
   "outputs": [
    {
     "name": "stdout",
     "output_type": "stream",
     "text": [
      "{\"0\": {\"name\": \"OVERLAND LUMBER COMPANY\", \"id\": \"OVELUBO\", \"shipto\": 2}, \"1\": {\"name\": \"JIM'S LUMBER\", \"id\": \"JIMLUMH\", \"shipto\": 1}, \"2\": {\"name\": \"JIM'S LUMBER\", \"id\": \"JIMLUMH\", \"shipto\": 2}, \"3\": {\"name\": \"OVERLAND LUMBER COMPANY\", \"id\": \"OVELUBO\", \"shipto\": 1}, \"4\": {\"name\": \"QUALITY TRUSS & LUMBER\", \"id\": \"QUATRLFI\", \"shipto\": 1}, \"5\": {\"name\": \"BMC\", \"id\": \"BMCBO\", \"shipto\": 203}, \"6\": {\"name\": \"BMC\", \"id\": \"BMCBO\", \"shipto\": 204}, \"7\": {\"name\": \"KRAMERICA INDUSTRIES OF IDAHO\", \"id\": \"KRAINIHA\", \"shipto\": 2}, \"8\": {\"name\": \"84 LUMBER COMPANY\", \"id\": \"EIGFOLEF\", \"shipto\": 1087}, \"9\": {\"name\": \"MOUNTAIN WEST BUILDING SUPPLY\", \"id\": \"MOUWEBEM\", \"shipto\": 1}, \"10\": {\"name\": \"AC HOUSTON LUMBER C0MPANY\", \"id\": \"ACHOLLV\", \"shipto\": 2}, \"11\": {\"name\": \"DO IT BEST CORPORATION\", \"id\": \"DOITBFW\", \"shipto\": 364}, \"12\": {\"name\": \"LUMBERMENS MERCHANDISING\", \"id\": \"LUMMEWA\", \"shipto\": 1306}, \"13\": {\"name\": \"KRAMERICA INDUSTRIES OF IDAHO\", \"id\": \"KRAINIHA\", \"shipto\": 1}}\n"
     ]
    }
   ],
   "source": [
    "with engine.connect() as connection:\n",
    "    r = connection.execute(text(\"SELECT cust_name, cust_code , seq_num FROM PriceGroup WHERE group_id = 'EWPGRP1' AND branch='BOISE'\"))\n",
    "    rows = r.fetchall()\n",
    "    result = {}\n",
    "    for index in range(len(rows)):\n",
    "        result[index] ={'name':rows[index][0],'id':rows[index][1],'shipto':rows[index][2]}\n",
    "# Convert the list of dictionaries to JSON and print it\n",
    "    json_result = json.dumps(result)\n",
    "    print(json_result)\n",
    "\n",
    "\n"
   ]
  },
  {
   "cell_type": "code",
   "execution_count": 79,
   "metadata": {},
   "outputs": [],
   "source": [
    "# import pyodbc\n",
    "\n",
    "# from sqlalchemy import create_engine\n",
    "\n",
    "# def creator():\n",
    "#     config = {\n",
    "#             'driver': 'SQL Server',\n",
    "#             'host': 'bdsql2016Prod',\n",
    "#             'user': 'Groupie01',\n",
    "#             'pw': 'Groupie2024!',\n",
    "#             'dbname': 'PriceGroup',\n",
    "#             'Trusted_Connection':'yes'\n",
    "#         }\n",
    "   \n",
    "#     return pyodbc.connect(\n",
    "#         \"DRIVER={{{driver}}};SERVER={host};DATABASE={dbname};UID={user};PWD={pw};Trusted_Connection={tc}\".format(\n",
    "#             driver=config['driver'],\n",
    "#             host=config['host'],\n",
    "#             port=config.get('port',1433),\n",
    "#             dbname=config['dbname'],\n",
    "#             user=config['user'],\n",
    "#             pw=config['pw'],\n",
    "#             tc=config['Trusted_Connection']\n",
    "#         )\n",
    "#     )\n",
    "\n",
    "# # works\n",
    "# odbc_conn = creator()"
   ]
  },
  {
   "cell_type": "code",
   "execution_count": 10,
   "metadata": {},
   "outputs": [
    {
     "name": "stdout",
     "output_type": "stream",
     "text": [
      "{\"0\": {\"name\": \"CHICAGO\", \"id\": \"3993\", \"shipto\": \"LBM ADVANTAGE\"}, \"1\": {\"name\": \"CHICAGO\", \"id\": \"49\", \"shipto\": \"CLEARY BUILDING CORPORATION\"}, \"2\": {\"name\": \"CHICAGO\", \"id\": \"00004899\", \"shipto\": \"DALTON LUMBER & SUPPLY INC\"}, \"3\": {\"name\": \"CHICAGO\", \"id\": \"00014250\", \"shipto\": \"DAN BOONE LLC\"}, \"4\": {\"name\": \"LATHROP\", \"id\": \"3989\", \"shipto\": \"LUMBERMENS MERCHANDISING\"}, \"5\": {\"name\": \"CHICAGO\", \"id\": \"632\", \"shipto\": \"DO IT BEST CORPORATION\"}, \"6\": {\"name\": \"\", \"id\": \"2439\", \"shipto\": \"ALEXANDER LUMBER\"}, \"7\": {\"name\": \"CHICAGO\", \"id\": \"2439\", \"shipto\": \"ALEXANDER LUMBER\"}, \"8\": {\"name\": \"\", \"id\": \"2439\", \"shipto\": \"ALEXANDER LUMBER\"}, \"9\": {\"name\": \"\", \"id\": \"2439\", \"shipto\": \"ALEXANDER LUMBER\"}}\n"
     ]
    }
   ],
   "source": [
    "with engine.connect() as connection:\n",
    "    r = connection.execute(text(\"SELECT TOP 10 * FROM PriceGroup WHERE group_id = 'EWPGRP1' \"))\n",
    "    rows = r.fetchall()\n",
    "    result = {}\n",
    "    for index in range(len(rows)):\n",
    "        result[index] ={'name':rows[index][0],'id':rows[index][1],'shipto':rows[index][2]}\n",
    "# Convert the list of dictionaries to JSON and print it\n",
    "    json_result = json.dumps(result)\n",
    "\n",
    "print(json_result)"
   ]
  },
  {
   "cell_type": "code",
   "execution_count": null,
   "metadata": {},
   "outputs": [],
   "source": []
  }
 ],
 "metadata": {
  "kernelspec": {
   "display_name": "Python 3",
   "language": "python",
   "name": "python3"
  },
  "language_info": {
   "codemirror_mode": {
    "name": "ipython",
    "version": 3
   },
   "file_extension": ".py",
   "mimetype": "text/x-python",
   "name": "python",
   "nbconvert_exporter": "python",
   "pygments_lexer": "ipython3",
   "version": "3.11.9"
  }
 },
 "nbformat": 4,
 "nbformat_minor": 2
}
