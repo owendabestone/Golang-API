{
 "cells": [
  {
   "cell_type": "code",
   "execution_count": 47,
   "metadata": {},
   "outputs": [
    {
     "name": "stdout",
     "output_type": "stream",
     "text": [
      "Collecting pyodbc\n",
      "  Downloading pyodbc-5.1.0-cp311-cp311-win_amd64.whl.metadata (2.8 kB)\n",
      "Downloading pyodbc-5.1.0-cp311-cp311-win_amd64.whl (68 kB)\n",
      "   ---------------------------------------- 0.0/68.7 kB ? eta -:--:--\n",
      "   ----- ---------------------------------- 10.2/68.7 kB ? eta -:--:--\n",
      "   ----------- ---------------------------- 20.5/68.7 kB 165.2 kB/s eta 0:00:01\n",
      "   ----------------------------------- ---- 61.4/68.7 kB 409.6 kB/s eta 0:00:01\n",
      "   ---------------------------------------- 68.7/68.7 kB 417.9 kB/s eta 0:00:00\n",
      "Installing collected packages: pyodbc\n",
      "Successfully installed pyodbc-5.1.0\n"
     ]
    },
    {
     "name": "stderr",
     "output_type": "stream",
     "text": [
      "\n",
      "[notice] A new release of pip is available: 24.0 -> 24.1.2\n",
      "[notice] To update, run: C:\\Users\\e150907\\AppData\\Local\\Microsoft\\WindowsApps\\PythonSoftwareFoundation.Python.3.11_qbz5n2kfra8p0\\python.exe -m pip install --upgrade pip\n"
     ]
    }
   ],
   "source": [
    "!pip install --trusted-host pypi.org --trusted-host pypi.python.org --trusted-host files.pythonhosted.org pyodbc"
   ]
  },
  {
   "cell_type": "code",
   "execution_count": 82,
   "metadata": {},
   "outputs": [],
   "source": [
    "import sqlalchemy as db\n",
    "from sqlalchemy import create_engine\n",
    "from sqlalchemy import text"
   ]
  },
  {
   "cell_type": "code",
   "execution_count": 83,
   "metadata": {},
   "outputs": [],
   "source": [
    "user = 'Groupie01'\n",
    "password = 'Groupie2024!'\n",
    "host = 'bdsql2016Prod'\n",
    "port = 1433\n",
    "database = 'PriceGroup'\n",
    " \n",
    "# PYTHON FUNCTION TO CONNECT TO THE MYSQL DATABASE AND\n",
    "# RETURN THE SQLACHEMY ENGINE OBJECT\n",
    "def get_connection():\n",
    "    return create_engine(\n",
    "        url=\"mssql+pyodbc://{0}:{1}@{2}:{3}/{4}?driver=SQL+Server\".format(\n",
    "            user, password, host, port, database\n",
    "        )\n",
    "    )\n",
    "\n",
    "engine = get_connection()\n",
    " "
   ]
  },
  {
   "cell_type": "code",
   "execution_count": 84,
   "metadata": {},
   "outputs": [
    {
     "name": "stdout",
     "output_type": "stream",
     "text": [
      "('', '00001658', \"LOWE'S COMPANIES INC\", 'LOWCONW', 21, 'HDGOLD', 1)\n",
      "('', '00001628', 'ALSIDE SUPPLY', 'ALSSUAK', 26, 'HDGOLD', 1)\n",
      "('GRANDJCT', '416', 'BUILDERS FIRSTSOURCE', 'BUIFIDE', 306, 'TrxStkDlr 1', 4)\n",
      "('', '00001658', \"LOWE'S COMPANIES INC\", 'LOWCONW', 1898, 'HDGOLD', 1)\n",
      "('', '00001658', \"LOWE'S COMPANIES INC\", 'LOWCONW', 22, 'HDGOLD', 1)\n",
      "('LATHROP', '3674', 'ORGILL INC', 'ORGME', 852, '3', 1)\n",
      "('LATHROP', '00001658', \"LOWE'S COMPANIES INC\", 'LOWCONW', 1189, '5', 2)\n",
      "('MILTON', '00004433', 'HOUSE-HASSON HARDWARE', 'HOUHAHKN', 31, '5', 1)\n",
      "('ORLANDO', '1194', 'ABC SUPPLY COMPANY INC', 'ABCSUBE', 773, '1', 1)\n",
      "('LATHROP', '00001658', \"LOWE'S COMPANIES INC\", 'LOWCONW', 1189, 'HomeCtr', 1)\n"
     ]
    }
   ],
   "source": [
    "\n",
    "\n",
    "with engine.connect() as connection:\n",
    "    result = connection.execute(text(\"SELECT TOP 10 * FROM PriceGroup\"))\n",
    "    for row in result:\n",
    "        print(row)"
   ]
  },
  {
   "cell_type": "code",
   "execution_count": 96,
   "metadata": {},
   "outputs": [
    {
     "name": "stdout",
     "output_type": "stream",
     "text": [
      "[('branch',), ('cust_key',), ('cust_name',), ('cust_code',), ('seq_num',), ('group_id',), ('ranking_num',)]\n"
     ]
    }
   ],
   "source": [
    "with engine.connect() as connection:\n",
    "    print(connection.execute(text(\"SELECT COLUMN_NAME FROM INFORMATION_SCHEMA.COLUMNS WHERE TABLE_NAME='PriceGroup'\")).fetchall())\n",
    "    "
   ]
  },
  {
   "cell_type": "code",
   "execution_count": 99,
   "metadata": {},
   "outputs": [
    {
     "name": "stdout",
     "output_type": "stream",
     "text": [
      "('BOISE', '145', 'OVERLAND LUMBER COMPANY', 'OVELUBO', 1, 'TruStkDlr 1', 4)\n",
      "('BOISE', '145', 'OVERLAND LUMBER COMPANY', 'OVELUBO', 1, '1', 12)\n",
      "('BOISE', '145', 'OVERLAND LUMBER COMPANY', 'OVELUBO', 1, 'BrdsLvl#1', 1)\n",
      "('BOISE', '145', 'OVERLAND LUMBER COMPANY', 'OVELUBO', 1, 'EwpGrp1', 6)\n",
      "('BOISE', '145', 'OVERLAND LUMBER COMPANY', 'OVELUBO', 1, 'FstnrStkDlr2', 11)\n",
      "('BOISE', '145', 'OVERLAND LUMBER COMPANY', 'OVELUBO', 1, 'GLB1', 2)\n",
      "('BOISE', '145', 'OVERLAND LUMBER COMPANY', 'OVELUBO', 1, 'HdePrfDlr 2', 8)\n",
      "('BOISE', '145', 'OVERLAND LUMBER COMPANY', 'OVELUBO', 1, 'MirTec3', 10)\n",
      "('BOISE', '145', 'OVERLAND LUMBER COMPANY', 'OVELUBO', 1, 'PolyPrfDlr 2', 3)\n",
      "('BOISE', '145', 'OVERLAND LUMBER COMPANY', 'OVELUBO', 1, 'SmpPrfDlr 2', 5)\n",
      "('BOISE', '145', 'OVERLAND LUMBER COMPANY', 'OVELUBO', 1, 'TdtStkDlr 1', 7)\n",
      "('BOISE', '145', 'OVERLAND LUMBER COMPANY', 'OVELUBO', 1, 'TrxStkDlr 1', 9)\n"
     ]
    }
   ],
   "source": [
    "with engine.connect() as connection:\n",
    "    result = connection.execute(text(\"SELECT * FROM PriceGroup WHERE cust_code = 'OVELUBO' AND seq_num = 1 AND branch='BOISE'\"))\n",
    "    for row in result:\n",
    "        print(row)\n",
    "    "
   ]
  },
  {
   "cell_type": "code",
   "execution_count": 102,
   "metadata": {},
   "outputs": [
    {
     "name": "stdout",
     "output_type": "stream",
     "text": [
      "('BOISE', '145', 'OVERLAND LUMBER COMPANY', 'OVELUBO', 2, 'EwpGrp1', 3)\n",
      "('BOISE', '109', \"JIM'S LUMBER\", 'JIMLUMH', 1, 'EwpGrp1', 15)\n",
      "('BOISE', '109', \"JIM'S LUMBER\", 'JIMLUMH', 2, 'EwpGrp1', 11)\n",
      "('BOISE', '145', 'OVERLAND LUMBER COMPANY', 'OVELUBO', 1, 'EwpGrp1', 6)\n",
      "('BOISE', '157', 'QUALITY TRUSS & LUMBER', 'QUATRLFI', 1, 'EwpGrp1', 5)\n",
      "('BOISE', '5', 'BMC', 'BMCBO', 203, 'EwpGrp1', 11)\n",
      "('BOISE', '5', 'BMC', 'BMCBO', 204, 'EwpGrp1', 12)\n",
      "('BOISE', '00014120', 'KRAMERICA INDUSTRIES OF IDAHO', 'KRAINIHA', 2, 'EwpGrp1', 1)\n",
      "('BOISE', '367', '84 LUMBER COMPANY', 'EIGFOLEF', 1087, 'EwpGrp1', 5)\n",
      "('BOISE', '00008727', 'MOUNTAIN WEST BUILDING SUPPLY', 'MOUWEBEM', 1, 'EwpGrp1', 11)\n",
      "('BOISE', '92', 'AC HOUSTON LUMBER C0MPANY', 'ACHOLLV', 2, 'EwpGrp1', 6)\n",
      "('BOISE', '632', 'DO IT BEST CORPORATION', 'DOITBFW', 364, 'EwpGrp1', 15)\n",
      "('BOISE', '3989', 'LUMBERMENS MERCHANDISING', 'LUMMEWA', 1306, 'EwpGrp1', 9)\n",
      "('BOISE', '00014120', 'KRAMERICA INDUSTRIES OF IDAHO', 'KRAINIHA', 1, 'EwpGrp1', 2)\n"
     ]
    }
   ],
   "source": [
    "with engine.connect() as connection:\n",
    "    result = connection.execute(text(\"SELECT * FROM PriceGroup WHERE group_id = 'EWPGRP1' AND branch='BOISE'\"))\n",
    "    for row in result:\n",
    "        print(row)"
   ]
  },
  {
   "cell_type": "code",
   "execution_count": 79,
   "metadata": {},
   "outputs": [],
   "source": [
    "# import pyodbc\n",
    "\n",
    "# from sqlalchemy import create_engine\n",
    "\n",
    "# def creator():\n",
    "#     config = {\n",
    "#             'driver': 'SQL Server',\n",
    "#             'host': 'bdsql2016Prod',\n",
    "#             'user': 'Groupie01',\n",
    "#             'pw': 'Groupie2024!',\n",
    "#             'dbname': 'PriceGroup',\n",
    "#             'Trusted_Connection':'yes'\n",
    "#         }\n",
    "   \n",
    "#     return pyodbc.connect(\n",
    "#         \"DRIVER={{{driver}}};SERVER={host};DATABASE={dbname};UID={user};PWD={pw};Trusted_Connection={tc}\".format(\n",
    "#             driver=config['driver'],\n",
    "#             host=config['host'],\n",
    "#             port=config.get('port',1433),\n",
    "#             dbname=config['dbname'],\n",
    "#             user=config['user'],\n",
    "#             pw=config['pw'],\n",
    "#             tc=config['Trusted_Connection']\n",
    "#         )\n",
    "#     )\n",
    "\n",
    "# # works\n",
    "# odbc_conn = creator()"
   ]
  },
  {
   "cell_type": "code",
   "execution_count": null,
   "metadata": {},
   "outputs": [],
   "source": [
    "import \n",
    "cnxn = pyodbc.connect(\"Driver={SQL Server Native Client 11.0};\"\n",
    "                      \"Server=bdsql2016Prod;\"\n",
    "                      \"Database=db_name;\"\n",
    "                      \"Trusted_Connection=yes;\")"
   ]
  }
 ],
 "metadata": {
  "kernelspec": {
   "display_name": "Python 3",
   "language": "python",
   "name": "python3"
  },
  "language_info": {
   "codemirror_mode": {
    "name": "ipython",
    "version": 3
   },
   "file_extension": ".py",
   "mimetype": "text/x-python",
   "name": "python",
   "nbconvert_exporter": "python",
   "pygments_lexer": "ipython3",
   "version": "3.11.9"
  }
 },
 "nbformat": 4,
 "nbformat_minor": 2
}
